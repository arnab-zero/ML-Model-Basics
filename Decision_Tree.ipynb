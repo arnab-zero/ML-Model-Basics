{
  "nbformat": 4,
  "nbformat_minor": 0,
  "metadata": {
    "colab": {
      "provenance": [],
      "authorship_tag": "ABX9TyNCQmG7gRpHVb+Ryi5ImNs9",
      "include_colab_link": true
    },
    "kernelspec": {
      "name": "python3",
      "display_name": "Python 3"
    },
    "language_info": {
      "name": "python"
    }
  },
  "cells": [
    {
      "cell_type": "markdown",
      "metadata": {
        "id": "view-in-github",
        "colab_type": "text"
      },
      "source": [
        "<a href=\"https://colab.research.google.com/github/arnab-zero/ML-Model-Basics/blob/main/Decision_Tree.ipynb\" target=\"_parent\"><img src=\"https://colab.research.google.com/assets/colab-badge.svg\" alt=\"Open In Colab\"/></a>"
      ]
    },
    {
      "cell_type": "code",
      "source": [
        "!pip install scikit-learn"
      ],
      "metadata": {
        "id": "ZzZniSSz3g92"
      },
      "execution_count": null,
      "outputs": []
    },
    {
      "cell_type": "code",
      "execution_count": null,
      "metadata": {
        "id": "tMHQcfBq2d7G"
      },
      "outputs": [],
      "source": [
        "from sklearn import datasets, tree\n",
        "from sklearn.tree import DecisionTreeClassifier\n",
        "from sklearn.model_selection import train_test_split\n",
        "from sklearn.metrics import accuracy_score\n",
        "import pandas as pd\n",
        "import matplotlib.pyplot as plt"
      ]
    },
    {
      "cell_type": "code",
      "source": [
        "bc = datasets.load_breast_cancer()\n",
        "df = pd.DataFrame(bc.data, columns = bc.feature_names)\n",
        "df['target'] = bc.target"
      ],
      "metadata": {
        "id": "ryGI0v4i39ky"
      },
      "execution_count": null,
      "outputs": []
    },
    {
      "cell_type": "code",
      "source": [
        "print(df.columns)"
      ],
      "metadata": {
        "id": "sWIIXVD86rnI"
      },
      "execution_count": null,
      "outputs": []
    },
    {
      "cell_type": "code",
      "source": [
        "features = ['radius error', 'texture error', 'concavity error', 'symmetry error']\n",
        "X = df[features]\n",
        "y = df['target']"
      ],
      "metadata": {
        "id": "fa3aWTuV_cDT"
      },
      "execution_count": null,
      "outputs": []
    },
    {
      "cell_type": "code",
      "source": [
        "# train-test split\n",
        "X_train, X_test, y_train, y_test = train_test_split(X, y, test_size = 0.3, random_state = 42);"
      ],
      "metadata": {
        "id": "VKMpOdUKfxQp"
      },
      "execution_count": null,
      "outputs": []
    },
    {
      "cell_type": "code",
      "source": [
        "# checking the splits\n",
        "print('X_train: \\n', X_train.head(), '\\ny_train: \\n', y_train.head())\n",
        "# print('X_test: \\n', X_test.head(), '\\ny_test:\\n' y_test.head())"
      ],
      "metadata": {
        "id": "cJaY4YMZg7uE"
      },
      "execution_count": null,
      "outputs": []
    },
    {
      "cell_type": "code",
      "source": [
        "# first 5 row from the dataset and correlation between features\n",
        "print(X.corr())\n",
        "print(X_train.corr())"
      ],
      "metadata": {
        "id": "x5IsajE8EwRX"
      },
      "execution_count": null,
      "outputs": []
    },
    {
      "cell_type": "code",
      "source": [
        "dtree = DecisionTreeClassifier(max_depth = 2, random_state = 42)\n",
        "dree = dtree.fit(X_train, y_train)"
      ],
      "metadata": {
        "id": "qLCUq_ne_sAM"
      },
      "execution_count": null,
      "outputs": []
    },
    {
      "cell_type": "code",
      "source": [
        "# tree.plot_tree(dtree, feature_names=features)\n",
        "tree.plot_tree(dtree, feature_names = features)"
      ],
      "metadata": {
        "colab": {
          "base_uri": "https://localhost:8080/",
          "height": 528
        },
        "id": "Q84o3CXi_0RN",
        "outputId": "8f87e3e0-4ee1-489d-b2b3-2139165dd49c"
      },
      "execution_count": null,
      "outputs": [
        {
          "output_type": "execute_result",
          "data": {
            "text/plain": [
              "[Text(0.5, 0.8333333333333334, 'radius error <= 0.395\\ngini = 0.468\\nsamples = 398\\nvalue = [149, 249]'),\n",
              " Text(0.25, 0.5, 'concavity error <= 0.022\\ngini = 0.272\\nsamples = 259\\nvalue = [42, 217]'),\n",
              " Text(0.125, 0.16666666666666666, 'gini = 0.092\\nsamples = 144\\nvalue = [7, 137]'),\n",
              " Text(0.375, 0.16666666666666666, 'gini = 0.423\\nsamples = 115\\nvalue = [35, 80]'),\n",
              " Text(0.75, 0.5, 'radius error <= 0.548\\ngini = 0.354\\nsamples = 139\\nvalue = [107, 32]'),\n",
              " Text(0.625, 0.16666666666666666, 'gini = 0.497\\nsamples = 63\\nvalue = [34, 29]'),\n",
              " Text(0.875, 0.16666666666666666, 'gini = 0.076\\nsamples = 76\\nvalue = [73, 3]')]"
            ]
          },
          "metadata": {},
          "execution_count": 20
        },
        {
          "output_type": "display_data",
          "data": {
            "text/plain": [
              "<Figure size 640x480 with 1 Axes>"
            ],
            "image/png": "[encoded data removed]"
          },
          "metadata": {}
        }
      ]
    },
    {
      "cell_type": "code",
      "source": [
        "# predict result\n",
        "y_pred = dtree.predict(X_test)\n",
        "print(y_pred)"
      ],
      "metadata": {
        "colab": {
          "base_uri": "https://localhost:8080/"
        },
        "id": "k7twkuajoYlU",
        "outputId": "762b08ae-c07f-4387-c61a-7424270c72a0"
      },
      "execution_count": null,
      "outputs": [
        {
          "output_type": "stream",
          "name": "stdout",
          "text": [
            "[0 0 0 1 1 0 0 0 1 1 1 0 1 0 1 0 1 1 1 0 1 1 0 1 1 0 1 1 1 0 1 1 0 1 1 1 1\n",
            " 0 0 1 1 0 1 1 0 1 1 0 1 1 0 0 1 0 0 1 1 0 1 1 1 0 0 1 1 1 0 0 1 1 0 0 1 1\n",
            " 1 1 1 0 1 1 0 1 0 0 0 0 1 0 1 1 1 1 1 1 1 0 0 0 1 0 1 1 0 0 0 0 1 0 1 1 0\n",
            " 1 1 0 1 0 0 1 0 1 0 1 1 0 1 0 0 1 1 0 0 1 1 1 1 0 1 1 0 1 1 0 1 1 1 1 1 0\n",
            " 1 1 1 1 1 1 1 0 0 1 1 1 1 1 0 1 0 1 1 1 0 0 1]\n"
          ]
        }
      ]
    },
    {
      "cell_type": "code",
      "source": [
        "# test accuracy\n",
        "accuracy = accuracy_score(y_test, y_pred)\n",
        "print(\"Accuracy on the test data: \", accuracy)"
      ],
      "metadata": {
        "colab": {
          "base_uri": "https://localhost:8080/"
        },
        "id": "BHU3HEfeocQB",
        "outputId": "08a97508-a6c9-4ff5-8163-b32bbe886a7d"
      },
      "execution_count": null,
      "outputs": [
        {
          "output_type": "stream",
          "name": "stdout",
          "text": [
            "Accuracy on the test data:  0.8245614035087719\n"
          ]
        }
      ]
    }
  ]
}